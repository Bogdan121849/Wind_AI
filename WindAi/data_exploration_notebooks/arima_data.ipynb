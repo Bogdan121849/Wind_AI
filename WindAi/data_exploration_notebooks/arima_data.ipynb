{
 "cells": [
  {
   "cell_type": "code",
   "execution_count": 2,
   "id": "0d3fdfea",
   "metadata": {},
   "outputs": [],
   "source": [
    "import pandas as pd\n",
    "import numpy as np\n",
    "import matplotlib.pyplot as plt"
   ]
  },
  {
   "cell_type": "code",
   "execution_count": 3,
   "id": "8c969829",
   "metadata": {},
   "outputs": [
    {
     "data": {
      "text/html": [
       "<div>\n",
       "<style scoped>\n",
       "    .dataframe tbody tr th:only-of-type {\n",
       "        vertical-align: middle;\n",
       "    }\n",
       "\n",
       "    .dataframe tbody tr th {\n",
       "        vertical-align: top;\n",
       "    }\n",
       "\n",
       "    .dataframe thead th {\n",
       "        text-align: right;\n",
       "    }\n",
       "</style>\n",
       "<table border=\"1\" class=\"dataframe\">\n",
       "  <thead>\n",
       "    <tr style=\"text-align: right;\">\n",
       "      <th></th>\n",
       "      <th>time</th>\n",
       "      <th>bidding_area</th>\n",
       "      <th>power_MW</th>\n",
       "    </tr>\n",
       "  </thead>\n",
       "  <tbody>\n",
       "    <tr>\n",
       "      <th>0</th>\n",
       "      <td>2020-01-01 00:00:00</td>\n",
       "      <td>ELSPOT NO1</td>\n",
       "      <td>149.285262</td>\n",
       "    </tr>\n",
       "    <tr>\n",
       "      <th>1</th>\n",
       "      <td>2020-01-01 01:00:00</td>\n",
       "      <td>ELSPOT NO1</td>\n",
       "      <td>152.634024</td>\n",
       "    </tr>\n",
       "    <tr>\n",
       "      <th>2</th>\n",
       "      <td>2020-01-01 02:00:00</td>\n",
       "      <td>ELSPOT NO1</td>\n",
       "      <td>151.163256</td>\n",
       "    </tr>\n",
       "    <tr>\n",
       "      <th>3</th>\n",
       "      <td>2020-01-01 03:00:00</td>\n",
       "      <td>ELSPOT NO1</td>\n",
       "      <td>150.223341</td>\n",
       "    </tr>\n",
       "    <tr>\n",
       "      <th>4</th>\n",
       "      <td>2020-01-01 04:00:00</td>\n",
       "      <td>ELSPOT NO1</td>\n",
       "      <td>157.415142</td>\n",
       "    </tr>\n",
       "  </tbody>\n",
       "</table>\n",
       "</div>"
      ],
      "text/plain": [
       "                 time bidding_area    power_MW\n",
       "0 2020-01-01 00:00:00   ELSPOT NO1  149.285262\n",
       "1 2020-01-01 01:00:00   ELSPOT NO1  152.634024\n",
       "2 2020-01-01 02:00:00   ELSPOT NO1  151.163256\n",
       "3 2020-01-01 03:00:00   ELSPOT NO1  150.223341\n",
       "4 2020-01-01 04:00:00   ELSPOT NO1  157.415142"
      ]
     },
     "execution_count": 3,
     "metadata": {},
     "output_type": "execute_result"
    }
   ],
   "source": [
    "df = pd.read_parquet(\"/home2/s5549329/windAI_rug/WindAi/given_datasets/wind_power_per_bidzone.parquet\")\n",
    "\n",
    "df = df.reset_index().melt(\n",
    "    id_vars=\"index\", \n",
    "    var_name=\"bidding_area\", \n",
    "    value_name=\"power_MW\"\n",
    ").rename(columns={\"index\": \"time\"})\n",
    "df.head()\n"
   ]
  },
  {
   "cell_type": "code",
   "execution_count": 4,
   "id": "745056de",
   "metadata": {},
   "outputs": [
    {
     "data": {
      "text/plain": [
       "0   2020-01-01 00:00:00\n",
       "1   2020-01-01 01:00:00\n",
       "2   2020-01-01 02:00:00\n",
       "3   2020-01-01 03:00:00\n",
       "4   2020-01-01 04:00:00\n",
       "Name: time, dtype: datetime64[ns]"
      ]
     },
     "execution_count": 4,
     "metadata": {},
     "output_type": "execute_result"
    }
   ],
   "source": [
    "time_df = pd.to_datetime(df.pop(\"time\"), format='%d.%m.%Y %H:%M:%S')\n",
    "time_df.head()"
   ]
  },
  {
   "cell_type": "code",
   "execution_count": 5,
   "id": "8bbb5851",
   "metadata": {},
   "outputs": [
    {
     "data": {
      "text/plain": [
       "0    1.577837e+09\n",
       "1    1.577840e+09\n",
       "2    1.577844e+09\n",
       "3    1.577848e+09\n",
       "4    1.577851e+09\n",
       "Name: time, dtype: float64"
      ]
     },
     "execution_count": 5,
     "metadata": {},
     "output_type": "execute_result"
    }
   ],
   "source": [
    "time_df_seconds = time_df.map(pd.Timestamp.timestamp)\n",
    "time_df_seconds.head()"
   ]
  },
  {
   "cell_type": "code",
   "execution_count": 6,
   "id": "be36e295",
   "metadata": {},
   "outputs": [
    {
     "data": {
      "text/html": [
       "<div>\n",
       "<style scoped>\n",
       "    .dataframe tbody tr th:only-of-type {\n",
       "        vertical-align: middle;\n",
       "    }\n",
       "\n",
       "    .dataframe tbody tr th {\n",
       "        vertical-align: top;\n",
       "    }\n",
       "\n",
       "    .dataframe thead th {\n",
       "        text-align: right;\n",
       "    }\n",
       "</style>\n",
       "<table border=\"1\" class=\"dataframe\">\n",
       "  <thead>\n",
       "    <tr style=\"text-align: right;\">\n",
       "      <th></th>\n",
       "      <th>bidding_area</th>\n",
       "      <th>power_MW</th>\n",
       "      <th>Day sin</th>\n",
       "      <th>Day cos</th>\n",
       "      <th>Year sin</th>\n",
       "      <th>Year cos</th>\n",
       "      <th>time</th>\n",
       "    </tr>\n",
       "  </thead>\n",
       "  <tbody>\n",
       "    <tr>\n",
       "      <th>0</th>\n",
       "      <td>ELSPOT NO1</td>\n",
       "      <td>149.285262</td>\n",
       "      <td>-7.670342e-12</td>\n",
       "      <td>1.000000</td>\n",
       "      <td>-2.150345e-03</td>\n",
       "      <td>0.999998</td>\n",
       "      <td>2020-01-01 00:00:00</td>\n",
       "    </tr>\n",
       "    <tr>\n",
       "      <th>1</th>\n",
       "      <td>ELSPOT NO1</td>\n",
       "      <td>152.634024</td>\n",
       "      <td>2.588190e-01</td>\n",
       "      <td>0.965926</td>\n",
       "      <td>-1.433564e-03</td>\n",
       "      <td>0.999999</td>\n",
       "      <td>2020-01-01 01:00:00</td>\n",
       "    </tr>\n",
       "    <tr>\n",
       "      <th>2</th>\n",
       "      <td>ELSPOT NO1</td>\n",
       "      <td>151.163256</td>\n",
       "      <td>5.000000e-01</td>\n",
       "      <td>0.866025</td>\n",
       "      <td>-7.167823e-04</td>\n",
       "      <td>1.000000</td>\n",
       "      <td>2020-01-01 02:00:00</td>\n",
       "    </tr>\n",
       "    <tr>\n",
       "      <th>3</th>\n",
       "      <td>ELSPOT NO1</td>\n",
       "      <td>150.223341</td>\n",
       "      <td>7.071068e-01</td>\n",
       "      <td>0.707107</td>\n",
       "      <td>1.964387e-15</td>\n",
       "      <td>1.000000</td>\n",
       "      <td>2020-01-01 03:00:00</td>\n",
       "    </tr>\n",
       "    <tr>\n",
       "      <th>4</th>\n",
       "      <td>ELSPOT NO1</td>\n",
       "      <td>157.415142</td>\n",
       "      <td>8.660254e-01</td>\n",
       "      <td>0.500000</td>\n",
       "      <td>7.167823e-04</td>\n",
       "      <td>1.000000</td>\n",
       "      <td>2020-01-01 04:00:00</td>\n",
       "    </tr>\n",
       "  </tbody>\n",
       "</table>\n",
       "</div>"
      ],
      "text/plain": [
       "  bidding_area    power_MW       Day sin   Day cos      Year sin  Year cos  \\\n",
       "0   ELSPOT NO1  149.285262 -7.670342e-12  1.000000 -2.150345e-03  0.999998   \n",
       "1   ELSPOT NO1  152.634024  2.588190e-01  0.965926 -1.433564e-03  0.999999   \n",
       "2   ELSPOT NO1  151.163256  5.000000e-01  0.866025 -7.167823e-04  1.000000   \n",
       "3   ELSPOT NO1  150.223341  7.071068e-01  0.707107  1.964387e-15  1.000000   \n",
       "4   ELSPOT NO1  157.415142  8.660254e-01  0.500000  7.167823e-04  1.000000   \n",
       "\n",
       "                 time  \n",
       "0 2020-01-01 00:00:00  \n",
       "1 2020-01-01 01:00:00  \n",
       "2 2020-01-01 02:00:00  \n",
       "3 2020-01-01 03:00:00  \n",
       "4 2020-01-01 04:00:00  "
      ]
     },
     "execution_count": 6,
     "metadata": {},
     "output_type": "execute_result"
    }
   ],
   "source": [
    "day = 24*60*60\n",
    "year = (365.2425)*day\n",
    "\n",
    "df['Day sin'] = np.sin(time_df_seconds * (2 * np.pi / day))\n",
    "df['Day cos'] = np.cos(time_df_seconds * (2 * np.pi / day))\n",
    "df['Year sin'] = np.sin(time_df_seconds * (2 * np.pi / year))\n",
    "df['Year cos'] = np.cos(time_df_seconds * (2 * np.pi / year))\n",
    "df['time'] = time_df\n",
    "\n",
    "\n",
    "df.head()"
   ]
  },
  {
   "cell_type": "code",
   "execution_count": 7,
   "id": "4ad5ff37",
   "metadata": {},
   "outputs": [
    {
     "data": {
      "text/plain": [
       "Text(0.5, 1.0, 'Time of day signal')"
      ]
     },
     "execution_count": 7,
     "metadata": {},
     "output_type": "execute_result"
    },
    {
     "data": {
      "image/png": "[encoded data removed]",
      "text/plain": [
       "<Figure size 432x288 with 1 Axes>"
      ]
     },
     "metadata": {
      "needs_background": "light"
     },
     "output_type": "display_data"
    }
   ],
   "source": [
    "plt.plot(np.array(df['Day sin'])[:25])\n",
    "plt.plot(np.array(df['Day cos'])[:25])\n",
    "plt.xlabel('Time [h]')\n",
    "plt.title('Time of day signal')"
   ]
  },
  {
   "cell_type": "code",
   "execution_count": 8,
   "id": "ca8dd336",
   "metadata": {},
   "outputs": [
    {
     "data": {
      "text/html": [
       "<div>\n",
       "<style scoped>\n",
       "    .dataframe tbody tr th:only-of-type {\n",
       "        vertical-align: middle;\n",
       "    }\n",
       "\n",
       "    .dataframe tbody tr th {\n",
       "        vertical-align: top;\n",
       "    }\n",
       "\n",
       "    .dataframe thead th {\n",
       "        text-align: right;\n",
       "    }\n",
       "</style>\n",
       "<table border=\"1\" class=\"dataframe\">\n",
       "  <thead>\n",
       "    <tr style=\"text-align: right;\">\n",
       "      <th></th>\n",
       "      <th>bidding_area</th>\n",
       "      <th>time</th>\n",
       "      <th>power_MW</th>\n",
       "      <th>Day sin</th>\n",
       "      <th>Day cos</th>\n",
       "      <th>Year sin</th>\n",
       "      <th>Year cos</th>\n",
       "    </tr>\n",
       "  </thead>\n",
       "  <tbody>\n",
       "    <tr>\n",
       "      <th>0</th>\n",
       "      <td>ELSPOT NO1</td>\n",
       "      <td>2020-01-01 00:00:00</td>\n",
       "      <td>149.285262</td>\n",
       "      <td>-7.670342e-12</td>\n",
       "      <td>1.000000</td>\n",
       "      <td>-2.150345e-03</td>\n",
       "      <td>0.999998</td>\n",
       "    </tr>\n",
       "    <tr>\n",
       "      <th>1</th>\n",
       "      <td>ELSPOT NO1</td>\n",
       "      <td>2020-01-01 01:00:00</td>\n",
       "      <td>152.634024</td>\n",
       "      <td>2.588190e-01</td>\n",
       "      <td>0.965926</td>\n",
       "      <td>-1.433564e-03</td>\n",
       "      <td>0.999999</td>\n",
       "    </tr>\n",
       "    <tr>\n",
       "      <th>2</th>\n",
       "      <td>ELSPOT NO1</td>\n",
       "      <td>2020-01-01 02:00:00</td>\n",
       "      <td>151.163256</td>\n",
       "      <td>5.000000e-01</td>\n",
       "      <td>0.866025</td>\n",
       "      <td>-7.167823e-04</td>\n",
       "      <td>1.000000</td>\n",
       "    </tr>\n",
       "    <tr>\n",
       "      <th>3</th>\n",
       "      <td>ELSPOT NO1</td>\n",
       "      <td>2020-01-01 03:00:00</td>\n",
       "      <td>150.223341</td>\n",
       "      <td>7.071068e-01</td>\n",
       "      <td>0.707107</td>\n",
       "      <td>1.964387e-15</td>\n",
       "      <td>1.000000</td>\n",
       "    </tr>\n",
       "    <tr>\n",
       "      <th>4</th>\n",
       "      <td>ELSPOT NO1</td>\n",
       "      <td>2020-01-01 04:00:00</td>\n",
       "      <td>157.415142</td>\n",
       "      <td>8.660254e-01</td>\n",
       "      <td>0.500000</td>\n",
       "      <td>7.167823e-04</td>\n",
       "      <td>1.000000</td>\n",
       "    </tr>\n",
       "  </tbody>\n",
       "</table>\n",
       "</div>"
      ],
      "text/plain": [
       "  bidding_area                time    power_MW       Day sin   Day cos  \\\n",
       "0   ELSPOT NO1 2020-01-01 00:00:00  149.285262 -7.670342e-12  1.000000   \n",
       "1   ELSPOT NO1 2020-01-01 01:00:00  152.634024  2.588190e-01  0.965926   \n",
       "2   ELSPOT NO1 2020-01-01 02:00:00  151.163256  5.000000e-01  0.866025   \n",
       "3   ELSPOT NO1 2020-01-01 03:00:00  150.223341  7.071068e-01  0.707107   \n",
       "4   ELSPOT NO1 2020-01-01 04:00:00  157.415142  8.660254e-01  0.500000   \n",
       "\n",
       "       Year sin  Year cos  \n",
       "0 -2.150345e-03  0.999998  \n",
       "1 -1.433564e-03  0.999999  \n",
       "2 -7.167823e-04  1.000000  \n",
       "3  1.964387e-15  1.000000  \n",
       "4  7.167823e-04  1.000000  "
      ]
     },
     "execution_count": 8,
     "metadata": {},
     "output_type": "execute_result"
    }
   ],
   "source": [
    "df_zone = df.groupby(['bidding_area', 'time'], as_index=False).agg({\n",
    "    'power_MW': 'sum',\n",
    "    'Day sin': 'first',   \n",
    "    'Day cos': 'first',\n",
    "    'Year sin': 'first',\n",
    "    'Year cos': 'first'\n",
    "})\n",
    "df_zone.head()"
   ]
  },
  {
   "cell_type": "code",
   "execution_count": 9,
   "id": "da6c32e4",
   "metadata": {},
   "outputs": [],
   "source": [
    "regions = {region: group.sort_values('time') for region, group in df.groupby('bidding_area')}"
   ]
  },
  {
   "cell_type": "code",
   "execution_count": 10,
   "id": "da3c0b96",
   "metadata": {},
   "outputs": [],
   "source": [
    "df_no1 = regions['ELSPOT NO1']\n",
    "df_no2 = regions['ELSPOT NO2']\n",
    "df_no3 = regions['ELSPOT NO3']\n",
    "df_no4 = regions['ELSPOT NO4']"
   ]
  },
  {
   "cell_type": "code",
   "execution_count": 14,
   "id": "06608238",
   "metadata": {},
   "outputs": [
    {
     "data": {
      "text/plain": [
       "12"
      ]
     },
     "execution_count": 14,
     "metadata": {},
     "output_type": "execute_result"
    }
   ],
   "source": [
    "df_no1.head(10)\n",
    "df_no1[\"power_MW\"].isnull().sum()"
   ]
  },
  {
   "cell_type": "code",
   "execution_count": 19,
   "id": "c6575b74",
   "metadata": {},
   "outputs": [
    {
     "data": {
      "text/plain": [
       "46011"
      ]
     },
     "execution_count": 19,
     "metadata": {},
     "output_type": "execute_result"
    }
   ],
   "source": [
    "len(df_no1[\"power_MW\"])"
   ]
  },
  {
   "cell_type": "code",
   "execution_count": 11,
   "id": "f7ae535e",
   "metadata": {},
   "outputs": [
    {
     "data": {
      "text/plain": [
       "(46011, 7)"
      ]
     },
     "execution_count": 11,
     "metadata": {},
     "output_type": "execute_result"
    }
   ],
   "source": [
    "df_no1.shape"
   ]
  },
  {
   "cell_type": "code",
   "execution_count": 15,
   "id": "1b5003bd",
   "metadata": {},
   "outputs": [
    {
     "data": {
      "text/plain": [
       "1"
      ]
     },
     "execution_count": 15,
     "metadata": {},
     "output_type": "execute_result"
    }
   ],
   "source": [
    "df_no2.head()\n",
    "df_no2[\"power_MW\"].isnull().sum()"
   ]
  },
  {
   "cell_type": "code",
   "execution_count": 16,
   "id": "76951165",
   "metadata": {},
   "outputs": [
    {
     "data": {
      "text/plain": [
       "0"
      ]
     },
     "execution_count": 16,
     "metadata": {},
     "output_type": "execute_result"
    }
   ],
   "source": [
    "df_no3[\"power_MW\"].isnull().sum()"
   ]
  },
  {
   "cell_type": "code",
   "execution_count": 17,
   "id": "edf1863c",
   "metadata": {},
   "outputs": [
    {
     "data": {
      "text/plain": [
       "0"
      ]
     },
     "execution_count": 17,
     "metadata": {},
     "output_type": "execute_result"
    }
   ],
   "source": [
    "df_no4[\"power_MW\"].isnull().sum()"
   ]
  },
  {
   "cell_type": "code",
   "execution_count": 13,
   "id": "2ea0e485",
   "metadata": {},
   "outputs": [
    {
     "data": {
      "text/plain": [
       "(46011, 7)"
      ]
     },
     "execution_count": 13,
     "metadata": {},
     "output_type": "execute_result"
    }
   ],
   "source": [
    "df_no2.shape"
   ]
  },
  {
   "cell_type": "code",
   "execution_count": null,
   "id": "3805974e",
   "metadata": {},
   "outputs": [],
   "source": [
    "df_no1.to_parquet(\"WindAi/created_datasets/arima_power_no1.parquet\", index=False)\n",
    "df_no2.to_parquet(\"WindAi/created_datasets/arima_power_no2.parquet\", index=False)\n",
    "df_no3.to_parquet(\"WindAi/created_datasets/arima_power_no3.parquet\", index=False)\n",
    "df_no4.to_parquet(\"WindAi/created_datasets/arima_power_no4.parquet\", index=False)"
   ]
  }
 ],
 "metadata": {
  "kernelspec": {
   "display_name": "venv",
   "language": "python",
   "name": "python3"
  },
  "language_info": {
   "codemirror_mode": {
    "name": "ipython",
    "version": 3
   },
   "file_extension": ".py",
   "mimetype": "text/x-python",
   "name": "python",
   "nbconvert_exporter": "python",
   "pygments_lexer": "ipython3",
   "version": "3.6.8"
  }
 },
 "nbformat": 4,
 "nbformat_minor": 5
}
